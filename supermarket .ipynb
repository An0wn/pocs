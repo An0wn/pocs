{
 "cells": [
  {
   "cell_type": "markdown",
   "metadata": {},
   "source": [
    "<center><img src=\"is.png\" width=\"100px\"; ></center>"
   ]
  },
  {
   "cell_type": "code",
   "execution_count": 1,
   "metadata": {},
   "outputs": [],
   "source": [
    "import ipyvuetify as v\n",
    "import ipywidgets"
   ]
  },
  {
   "cell_type": "code",
   "execution_count": 2,
   "metadata": {},
   "outputs": [],
   "source": [
    "import matplotlib.pyplot as plt\n",
    "import seaborn as sns\n",
    "import pandas as pd\n",
    "from traitlets import (Any, Bool, Dict, Int, Unicode, List)\n",
    "import demjson\n",
    "import numpy as np\n",
    "from threading import Timer\n",
    "from src.data_loader import load_monthly_data \n",
    "import time\n",
    "import os\n",
    "import random\n",
    "import pandas as pd\n",
    "import numpy as np\n",
    "from sklearn.preprocessing import MinMaxScaler\n",
    "from scipy.spatial.distance import cosine\n",
    "from IPython.core.display import HTML\n",
    "from multiprocessing import Process, Queue, Lock"
   ]
  },
  {
   "cell_type": "code",
   "execution_count": 3,
   "metadata": {},
   "outputs": [],
   "source": [
    "%matplotlib widget"
   ]
  },
  {
   "cell_type": "code",
   "execution_count": 4,
   "metadata": {},
   "outputs": [
    {
     "data": {
      "text/html": [
       "<link href=\"https://cdn.jsdelivr.net/npm/@mdi/font@4.x/css/materialdesignicons.min.css\" rel=\"stylesheet\">\n"
      ],
      "text/plain": [
       "<IPython.core.display.HTML object>"
      ]
     },
     "metadata": {},
     "output_type": "display_data"
    }
   ],
   "source": [
    "%%HTML\n",
    "<link href=\"https://cdn.jsdelivr.net/npm/@mdi/font@4.x/css/materialdesignicons.min.css\" rel=\"stylesheet\">"
   ]
  },
  {
   "cell_type": "code",
   "execution_count": 5,
   "metadata": {},
   "outputs": [],
   "source": [
    "import ipywidgets as widgets\n",
    "from IPython.display import display\n"
   ]
  },
  {
   "cell_type": "markdown",
   "metadata": {},
   "source": [
    "-------------------------------------------------------------------------------------------------------------------------------\n"
   ]
  },
  {
   "cell_type": "code",
   "execution_count": 6,
   "metadata": {},
   "outputs": [
    {
     "data": {
      "application/vnd.jupyter.widget-view+json": {
       "model_id": "4a0f21d20231448186c28b138019bfb6",
       "version_major": 2,
       "version_minor": 0
      },
      "text/plain": [
       "Html(children=['LOAD'], style_=\"font-size:29px; text-align:center; font-family: 'Josefin Sans';background:line…"
      ]
     },
     "metadata": {},
     "output_type": "display_data"
    }
   ],
   "source": [
    "import ipyvuetify as v\n",
    "text = 'LOAD'\n",
    "v.Html(tag=\"div\", children=[text], style_ = \"font-size:29px; text-align:center; font-family: 'Josefin Sans';background:linear-gradient(45deg, $pink, $orange)\")"
   ]
  },
  {
   "cell_type": "code",
   "execution_count": 7,
   "metadata": {},
   "outputs": [],
   "source": [
    "monthly = load_monthly_data()"
   ]
  },
  {
   "cell_type": "code",
   "execution_count": 8,
   "metadata": {},
   "outputs": [
    {
     "data": {
      "application/vnd.jupyter.widget-view+json": {
       "model_id": "d6859f063aa941388886fba061a1440f",
       "version_major": 2,
       "version_minor": 0
      },
      "text/plain": [
       "MyDataTable(headers=[{'text': 'date', 'sortable': False, 'value': 'date'}, {'text': 'sku', 'value': 'sku', 'al…"
      ]
     },
     "metadata": {},
     "output_type": "display_data"
    }
   ],
   "source": [
    "class MyDataTable(v.VuetifyTemplate):\n",
    "    headers = List().tag(sync=True)\n",
    "    items = List().tag(sync=True)\n",
    "    template = Unicode().tag(sync=True)\n",
    "    def __init__(self, monthly):\n",
    "        super().__init__()\n",
    "        columns = []\n",
    "        v_slot = '<template v-slot:items=\"props\">'\n",
    "        for i, colname in enumerate(monthly.columns):\n",
    "            if i == 0:\n",
    "                list_item = {'text': colname, 'sortable': False, 'value': colname}\n",
    "                v_slot = v_slot + f'<td>{{{{props.item.{colname}}}}}</td>'\n",
    "            else:\n",
    "                list_item = {'text': colname, 'value': colname, 'align': 'right'}\n",
    "                v_slot = v_slot + f'<td class=\"text-xs-right\">{{{{props.item.{colname}}}}}</td>'\n",
    "            columns.append(list_item)\n",
    "        v_slot = v_slot + '</template>'\n",
    "\n",
    "        self.headers = columns\n",
    "        self.items = monthly.to_dict(orient='records')\n",
    "        self.template = '<v-data-table :headers=\"headers\" :items=\"items\"  :items-per-page=\"5\" class=\"elevation-1\">' \\\n",
    "            + v_slot \\\n",
    "            + '</v-data-table>'\n",
    "MyDataTable(monthly)"
   ]
  },
  {
   "cell_type": "code",
   "execution_count": 9,
   "metadata": {},
   "outputs": [
    {
     "data": {
      "application/vnd.jupyter.widget-view+json": {
       "model_id": "32cd95b1122340f3be76cedc02edb11b",
       "version_major": 2,
       "version_minor": 0
      },
      "text/plain": [
       "Container(children=[Btn(children=['Drop empty rows', Icon(children=['mdi-centos'], right=True)], color='#F3772…"
      ]
     },
     "metadata": {},
     "output_type": "display_data"
    }
   ],
   "source": [
    "# Drop empty rows\n",
    "idx_to_drop = monthly.unit_cogs[monthly.unit_cogs.str.len() == 0].index\n",
    "monthly = monthly.drop(idx_to_drop)\n",
    "icon = v.Icon(right=True, children=['mdi-centos'])\n",
    "btn = v.Btn(color='#F37726', children=[\n",
    "    'Drop empty rows',\n",
    "    icon\n",
    "])\n",
    "\n",
    "icon.on_event('click.stop', lambda *args: print(monthly))\n",
    "btn.on_event('click', lambda *args: print(monthly))\n",
    "\n",
    "v.Container(children=[\n",
    "    btn\n",
    "])\n",
    "\n"
   ]
  },
  {
   "cell_type": "code",
   "execution_count": 10,
   "metadata": {},
   "outputs": [
    {
     "data": {
      "application/vnd.jupyter.widget-view+json": {
       "model_id": "2ab7453937574b3bbd7fbfaf3a16afeb",
       "version_major": 2,
       "version_minor": 0
      },
      "text/plain": [
       "Container(children=[Btn(children=['Convert to numeric', Icon(children=['mdi mdi-epsilon'], right=True)], color…"
      ]
     },
     "metadata": {},
     "output_type": "display_data"
    }
   ],
   "source": [
    "# Convert to numeric\n",
    "monthly.unit_cogs =  monthly.unit_cogs.astype('float')\n",
    "icon = v.Icon(right=True, children=['mdi mdi-epsilon'])\n",
    "btn = v.Btn(color='#F37726', children=[\n",
    "    'Convert to numeric',\n",
    "    icon\n",
    "])\n",
    "\n",
    "icon.on_event('click.stop', lambda *args: print(monthly.unit_cogs))\n",
    "btn.on_event('click', lambda *args: print(monthly.unit_cogs))\n",
    "\n",
    "v.Container(children=[\n",
    "    btn\n",
    "])\n"
   ]
  },
  {
   "cell_type": "code",
   "execution_count": 11,
   "metadata": {},
   "outputs": [],
   "source": [
    "# Add aggregate revenue column\n",
    "monthly['agg_rev'] = monthly['quantity'] * monthly['unit_revenue']"
   ]
  },
  {
   "cell_type": "code",
   "execution_count": 12,
   "metadata": {
    "scrolled": true
   },
   "outputs": [
    {
     "data": {
      "application/vnd.jupyter.widget-view+json": {
       "model_id": "2ea3e683ad364cc8b2242832f898e703",
       "version_major": 2,
       "version_minor": 0
      },
      "text/plain": [
       "Container(children=[Btn(children=['Aggregate', Icon(children=['mdi-iframe-variable-outline'], right=True)], co…"
      ]
     },
     "metadata": {},
     "output_type": "display_data"
    }
   ],
   "source": [
    "icon = v.Icon(right=True, children=['mdi-iframe-variable-outline'])\n",
    "btn = v.Btn(color='#F37726', children=[\n",
    "    'Aggregate',\n",
    "    icon\n",
    "])\n",
    "\n",
    "icon.on_event('click.stop', lambda *args: print(monthly['agg_rev']))\n",
    "btn.on_event('click', lambda *args: print(monthly['agg_rev']))\n",
    "\n",
    "v.Container(children=[\n",
    "    btn\n",
    "])"
   ]
  },
  {
   "cell_type": "markdown",
   "metadata": {},
   "source": [
    "-------------------------------------------------------------------------------------------------------------------------------"
   ]
  },
  {
   "cell_type": "code",
   "execution_count": 13,
   "metadata": {},
   "outputs": [
    {
     "data": {
      "application/vnd.jupyter.widget-view+json": {
       "model_id": "ca7de85f815a4917b960d5d8bb6137aa",
       "version_major": 2,
       "version_minor": 0
      },
      "text/plain": [
       "Html(children=['CLEAN'], style_=\"font-size:29px; text-align:center; font-family: 'Josefin Sans';background:lin…"
      ]
     },
     "metadata": {},
     "output_type": "display_data"
    }
   ],
   "source": [
    "import ipyvuetify as v\n",
    "text = 'CLEAN'\n",
    "v.Html(tag=\"div\", children=[text], style_ = \"font-size:29px; text-align:center; font-family: 'Josefin Sans';background:linear-gradient(45deg, $pink, $orange)\")"
   ]
  },
  {
   "cell_type": "markdown",
   "metadata": {},
   "source": [
    "-------------------------------------------------------------------------------------------------------------------------------\n"
   ]
  },
  {
   "cell_type": "code",
   "execution_count": 14,
   "metadata": {},
   "outputs": [
    {
     "data": {
      "application/vnd.jupyter.widget-view+json": {
       "model_id": "d891c4eb295b4f859a44e5dd13965af9",
       "version_major": 2,
       "version_minor": 0
      },
      "text/plain": [
       "Container(children=[Btn(children=['Duplichecker', Icon(children=['mdi-dice-3-outline'], right=True)], color='#…"
      ]
     },
     "metadata": {},
     "output_type": "display_data"
    }
   ],
   "source": [
    "icon = v.Icon(right=True, children=['mdi-dice-3-outline'])\n",
    "btn = v.Btn(color='#F37726', children=[\n",
    "    'Duplichecker',\n",
    "    icon\n",
    "])\n",
    "\n",
    "icon.on_event('click.stop', lambda *args: print(monthly.duplicated().sum()))\n",
    "btn.on_event('click', lambda *args: print(monthly.duplicated().sum()))\n",
    "\n",
    "v.Container(children=[\n",
    "    btn\n",
    "])"
   ]
  },
  {
   "cell_type": "code",
   "execution_count": 15,
   "metadata": {},
   "outputs": [
    {
     "data": {
      "application/vnd.jupyter.widget-view+json": {
       "model_id": "d0e92915919a44efb3a41040aa200c46",
       "version_major": 2,
       "version_minor": 0
      },
      "text/plain": [
       "Container(children=[Btn(children=['Summarize Variables', Icon(children=['mdi-valve-open'], right=True)], color…"
      ]
     },
     "metadata": {},
     "output_type": "display_data"
    }
   ],
   "source": [
    "icon = v.Icon(right=True, children=['mdi-valve-open'])\n",
    "btn = v.Btn(color='#F37726', children=[\n",
    "    'Summarize Variables',\n",
    "    icon\n",
    "])\n",
    "\n",
    "icon.on_event('click.stop', lambda *args: print(monthly.describe(include = ['O']).to_string())\n",
    ")\n",
    "btn.on_event('click', lambda *args: print(monthly.describe(include = ['O']).to_string())\n",
    ")\n",
    "\n",
    "v.Container(children=[\n",
    "    btn\n",
    "])"
   ]
  },
  {
   "cell_type": "code",
   "execution_count": 16,
   "metadata": {
    "scrolled": true
   },
   "outputs": [
    {
     "data": {
      "application/vnd.jupyter.widget-view+json": {
       "model_id": "a889562edd914c43af41ad199c80b52b",
       "version_major": 2,
       "version_minor": 0
      },
      "text/plain": [
       "Container(children=[Btn(children=['Calculate CT', Icon(children=['mdi-calculator-variant'], right=True)], colo…"
      ]
     },
     "metadata": {},
     "output_type": "display_data"
    }
   ],
   "source": [
    "icon = v.Icon(right=True, children=['mdi-calculator-variant'])\n",
    "btn = v.Btn(color='#F37726', children=[\n",
    "    'Calculate CT',\n",
    "    icon\n",
    "])\n",
    "\n",
    "icon.on_event('click.stop', lambda *args: print(monthly.describe(include = [np.number]).to_string())\n",
    ")\n",
    "btn.on_event('click', lambda *args: print(monthly.describe(include = [np.number]).to_string())\n",
    ")\n",
    "\n",
    "v.Container(children=[\n",
    "    btn\n",
    "])"
   ]
  },
  {
   "cell_type": "code",
   "execution_count": 17,
   "metadata": {},
   "outputs": [
    {
     "data": {
      "text/html": [
       "<hr>"
      ],
      "text/plain": [
       "<IPython.core.display.HTML object>"
      ]
     },
     "execution_count": 17,
     "metadata": {},
     "output_type": "execute_result"
    }
   ],
   "source": [
    "\n",
    "\n",
    "HTML('<hr>')"
   ]
  },
  {
   "cell_type": "code",
   "execution_count": 18,
   "metadata": {
    "scrolled": true
   },
   "outputs": [
    {
     "data": {
      "application/vnd.jupyter.widget-view+json": {
       "model_id": "2fa6af832f6347d0b540dc3ebff26a36",
       "version_major": 2,
       "version_minor": 0
      },
      "text/plain": [
       "Html(children=['VISUALIZE'], style_=\"font-size:29px; text-align:center;font-family: 'Josefin Sans';background:…"
      ]
     },
     "metadata": {},
     "output_type": "display_data"
    }
   ],
   "source": [
    "# import ipyvuetify as v\n",
    "text = 'VISUALIZE'\n",
    "v.Html(tag=\"div\", children=[text], style_ = \"font-size:29px; text-align:center;font-family: 'Josefin Sans';background:linear-gradient(45deg, $pink, $orange)\")"
   ]
  },
  {
   "cell_type": "code",
   "execution_count": 19,
   "metadata": {},
   "outputs": [
    {
     "data": {
      "text/html": [
       "<hr>"
      ],
      "text/plain": [
       "<IPython.core.display.HTML object>"
      ]
     },
     "execution_count": 19,
     "metadata": {},
     "output_type": "execute_result"
    }
   ],
   "source": [
    "HTML('<hr>')"
   ]
  },
  {
   "cell_type": "code",
   "execution_count": 20,
   "metadata": {},
   "outputs": [],
   "source": [
    "# Getting the full list of categories and the number of skus within each category\n",
    "category_sku_count = monthly[['sku','group']].drop_duplicates().groupby('group').count().sort_values(by='sku', ascending=False)\n",
    "category_annual_contribution = monthly[['group','agg_dollar_contribution']].drop_duplicates().groupby('group').sum().sort_values(by='agg_dollar_contribution', ascending=False)\n",
    "category_sku_annual_contrib = category_sku_count.join(category_annual_contribution)\n",
    "\n",
    "# calculating aggregate dollar revenue\n",
    "monthly['agg_revenue'] = monthly['quantity'] * monthly['unit_revenue']"
   ]
  },
  {
   "cell_type": "code",
   "execution_count": 21,
   "metadata": {},
   "outputs": [
    {
     "name": "stderr",
     "output_type": "stream",
     "text": [
      "/home/radepery/anaconda3/lib/python3.7/site-packages/matplotlib/__init__.py:880: MatplotlibDeprecationWarning: \n",
      "nbagg.transparent\n",
      "  version, key, obj_type=\"rcparam\", alternative=alt_key)\n",
      "/home/radepery/anaconda3/lib/python3.7/site-packages/matplotlib/__init__.py:880: MatplotlibDeprecationWarning: \n",
      "nbagg.transparent\n",
      "  version, key, obj_type=\"rcparam\", alternative=alt_key)\n"
     ]
    },
    {
     "data": {
      "application/vnd.jupyter.widget-view+json": {
       "model_id": "e06499a1127e4fefbf10d401ee53b2d8",
       "version_major": 2,
       "version_minor": 0
      },
      "text/plain": [
       "Canvas(toolbar=Toolbar(toolitems=[('Home', 'Reset original view', 'home', 'home'), ('Back', 'Back to previous …"
      ]
     },
     "metadata": {},
     "output_type": "display_data"
    }
   ],
   "source": [
    "labels = list(category_sku_annual_contrib.index)\n",
    "x = np.arange(len(labels))\n",
    "width = .35\n",
    "\n",
    "fig, ax1 = plt.subplots(figsize=(10,5))\n",
    "ax1.bar(x - width/2, category_sku_count.sku, width, color=['orange'])\n",
    "ax2 = ax1.twinx()\n",
    "ax2.bar(x+ width/2, category_annual_contribution.agg_dollar_contribution, width)\n",
    "\n",
    "ax1.legend(['SKU'])\n",
    "ax2.legend(['Contribution'],loc=2)\n",
    "\n",
    "ax1.set_ylabel('# of SKUs')\n",
    "ax2.set_ylabel('Aggregate Annual Contribution (PLN)')\n",
    "\n",
    "ax1.set_xticks(x)\n",
    "ax1.set_xticklabels(labels, minor=False, rotation=90);\n",
    "\n",
    "fig.tight_layout()\n",
    "plt.show()"
   ]
  },
  {
   "cell_type": "code",
   "execution_count": null,
   "metadata": {},
   "outputs": [],
   "source": []
  },
  {
   "cell_type": "code",
   "execution_count": 22,
   "metadata": {},
   "outputs": [],
   "source": [
    "def get_mom_growth(df):\n",
    "    \"\"\"Get the month over month growth rate for input data\"\"\"\n",
    "    \n",
    "    growth_df = df / df.shift(1, axis=1) - 1\n",
    "    return growth_df.iloc[:,1:]\n",
    "\n"
   ]
  },
  {
   "cell_type": "code",
   "execution_count": 23,
   "metadata": {},
   "outputs": [],
   "source": [
    "def top_n_cat_by_contrib_idx(n):\n",
    "    \"\"\"Returns sorted n largest product categories index (pd.Int64Index) by annual aggregate revenue\"\"\"\n",
    "    return category_contribution_by_month.sum(axis=1).sort_values(ascending=False).iloc[:n].index"
   ]
  },
  {
   "cell_type": "code",
   "execution_count": 24,
   "metadata": {},
   "outputs": [],
   "source": [
    "def ma(df, n):\n",
    "    \"\"\"Returns a moving average dataframe based on given period\"\"\"\n",
    "    return df.rolling(window=n, axis=1).mean().iloc[:,n-1:]\n",
    "\n",
    "\n"
   ]
  },
  {
   "cell_type": "code",
   "execution_count": 25,
   "metadata": {},
   "outputs": [],
   "source": [
    "abr_month = ['jan','feb','mar','apr','may','jun','jul','aug','sep','oct','nov', 'dec']"
   ]
  },
  {
   "cell_type": "code",
   "execution_count": 26,
   "metadata": {},
   "outputs": [],
   "source": [
    "def cat_by_month(value, aggfunc='sum'):\n",
    "    \"\"\"Returns df aggregated on value (fn parameter). Returned df has product categories as rows \n",
    "    and month of year as columns\"\"\"\n",
    "    \n",
    "    df = monthly.pivot_table(value, index='group', columns=['date'], aggfunc=aggfunc)\n",
    "    df = df.fillna(0)\n",
    "    df.columns = abr_month\n",
    "    return df\n"
   ]
  },
  {
   "cell_type": "code",
   "execution_count": 27,
   "metadata": {},
   "outputs": [],
   "source": [
    "# These functions have some dependent dataframes\n",
    "category_contribution_by_month = cat_by_month('agg_revenue') - cat_by_month('agg_cogs')"
   ]
  },
  {
   "cell_type": "code",
   "execution_count": 28,
   "metadata": {},
   "outputs": [
    {
     "name": "stderr",
     "output_type": "stream",
     "text": [
      "/home/radepery/anaconda3/lib/python3.7/site-packages/matplotlib/__init__.py:880: MatplotlibDeprecationWarning: \n",
      "nbagg.transparent\n",
      "  version, key, obj_type=\"rcparam\", alternative=alt_key)\n",
      "/home/radepery/anaconda3/lib/python3.7/site-packages/matplotlib/__init__.py:880: MatplotlibDeprecationWarning: \n",
      "nbagg.transparent\n",
      "  version, key, obj_type=\"rcparam\", alternative=alt_key)\n"
     ]
    },
    {
     "data": {
      "application/vnd.jupyter.widget-view+json": {
       "model_id": "7284aa04c59148d59ec2327507afbef6",
       "version_major": 2,
       "version_minor": 0
      },
      "text/plain": [
       "Canvas(toolbar=Toolbar(toolitems=[('Home', 'Reset original view', 'home', 'home'), ('Back', 'Back to previous …"
      ]
     },
     "metadata": {},
     "output_type": "display_data"
    }
   ],
   "source": [
    "fig1, axs = plt.subplots(4, 4, figsize=(9,9), sharex=False)\n",
    "i=0\n",
    "\n",
    "monthly_items_sold_by_category = cat_by_month('sku','count').T\n",
    "monthly_items_sold_by_category = monthly_items_sold_by_category[list(top_n_cat_by_contrib_idx(17))]\n",
    "\n",
    "categories_ex_vegetables = list(monthly_items_sold_by_category.columns.values)\n",
    "categories_ex_vegetables.remove('vegetables')\n",
    "\n",
    "# Plotting the subplots\n",
    "for row in range(9):\n",
    "    for col in range(4):\n",
    "        try:\n",
    "            cat = categories_ex_vegetables[i]\n",
    "            i += 1\n",
    "\n",
    "            x = monthly_items_sold_by_category.vegetables.values\n",
    "            y = monthly_items_sold_by_category[cat].values\n",
    "            sns.regplot(x=x, y=y, ax=axs[row][col])\n",
    "            axs[row][col].title.set_text(cat)\n",
    "            \n",
    "            if col == 0:\n",
    "                axs[row][col].set_ylabel('# of Items Sold')\n",
    "                \n",
    "            if row == 3:\n",
    "                axs[row][col].set_xlabel('# of Grocery Items Sold')            \n",
    "        except IndexError:\n",
    "            # Done\n",
    "            break"
   ]
  },
  {
   "cell_type": "code",
   "execution_count": 29,
   "metadata": {},
   "outputs": [
    {
     "name": "stderr",
     "output_type": "stream",
     "text": [
      "/home/radepery/anaconda3/lib/python3.7/site-packages/matplotlib/__init__.py:880: MatplotlibDeprecationWarning: \n",
      "nbagg.transparent\n",
      "  version, key, obj_type=\"rcparam\", alternative=alt_key)\n",
      "/home/radepery/anaconda3/lib/python3.7/site-packages/matplotlib/__init__.py:880: MatplotlibDeprecationWarning: \n",
      "nbagg.transparent\n",
      "  version, key, obj_type=\"rcparam\", alternative=alt_key)\n"
     ]
    },
    {
     "data": {
      "application/vnd.jupyter.widget-view+json": {
       "model_id": "9c6cd055ce214260b7305bcf444849d3",
       "version_major": 2,
       "version_minor": 0
      },
      "text/plain": [
       "Canvas(toolbar=Toolbar(toolitems=[('Home', 'Reset original view', 'home', 'home'), ('Back', 'Back to previous …"
      ]
     },
     "metadata": {},
     "output_type": "display_data"
    }
   ],
   "source": [
    "fig = plt.figure(figsize=(10,5))\n",
    "\n",
    "product_categories = list(monthly_items_sold_by_category.columns.values)\n",
    "sns.heatmap(monthly_items_sold_by_category[list(top_n_cat_by_contrib_idx(10))].corr(), \n",
    "            cmap=sns.color_palette(\"RdBu_r\",50)[::-1], \n",
    "            annot=True)\n",
    "\n",
    "plt.xticks(rotation=45)\n",
    "plt.show()"
   ]
  },
  {
   "cell_type": "code",
   "execution_count": 30,
   "metadata": {},
   "outputs": [
    {
     "data": {
      "text/html": [
       "<hr>"
      ],
      "text/plain": [
       "<IPython.core.display.HTML object>"
      ]
     },
     "execution_count": 30,
     "metadata": {},
     "output_type": "execute_result"
    }
   ],
   "source": [
    "HTML('<hr>')"
   ]
  },
  {
   "cell_type": "code",
   "execution_count": 31,
   "metadata": {},
   "outputs": [
    {
     "data": {
      "application/vnd.jupyter.widget-view+json": {
       "model_id": "a259ca95258244a09d76782fe5c3551b",
       "version_major": 2,
       "version_minor": 0
      },
      "text/plain": [
       "Html(children=['Statistics'], style_=\"font-size:29px; text-align:center; font-family: 'Josefin Sans';backgroun…"
      ]
     },
     "metadata": {},
     "output_type": "display_data"
    }
   ],
   "source": [
    "text = 'Statistics'\n",
    "v.Html(tag=\"div\", children=[text], style_ = \"font-size:29px; text-align:center; font-family: 'Josefin Sans';background:linear-gradient(45deg, $pink, $orange)\")"
   ]
  },
  {
   "cell_type": "code",
   "execution_count": 32,
   "metadata": {},
   "outputs": [
    {
     "data": {
      "text/html": [
       "<hr>"
      ],
      "text/plain": [
       "<IPython.core.display.HTML object>"
      ]
     },
     "execution_count": 32,
     "metadata": {},
     "output_type": "execute_result"
    }
   ],
   "source": [
    "HTML('<hr>')"
   ]
  },
  {
   "cell_type": "code",
   "execution_count": 33,
   "metadata": {},
   "outputs": [],
   "source": [
    "\n",
    "# Making the sales correlation matrix between groceries and other categories\n",
    "corr_df = pd.DataFrame(np.corrcoef(monthly_items_sold_by_category.values, rowvar=False), columns = monthly_items_sold_by_category.columns)\n",
    "corr_df.index = monthly_items_sold_by_category.columns\n",
    "corr_df = corr_df[['vegetables']].sort_values('vegetables', ascending=False)"
   ]
  },
  {
   "cell_type": "code",
   "execution_count": 34,
   "metadata": {},
   "outputs": [
    {
     "data": {
      "application/vnd.jupyter.widget-view+json": {
       "model_id": "07590d0d3f314b58b33c46eda31bfa4f",
       "version_major": 2,
       "version_minor": 0
      },
      "text/plain": [
       "Container(children=[Btn(children=['Correlation Matrix', Icon(children=['mdi-camera-metering-spot'], right=True…"
      ]
     },
     "metadata": {},
     "output_type": "display_data"
    }
   ],
   "source": [
    "\n",
    "icon = v.Icon(right=True, children=['mdi-camera-metering-spot'])\n",
    "btn = v.Btn(color='#F37726', children=[\n",
    "    'Correlation Matrix',\n",
    "    icon\n",
    "])\n",
    "\n",
    "icon.on_event('click.stop', lambda *args: print(corr_df.to_string()))\n",
    "\n",
    "btn.on_event('click', lambda *args: print(corr_df.to_string()))\n",
    "\n",
    "\n",
    "v.Container(children=[\n",
    "    btn\n",
    "])"
   ]
  },
  {
   "cell_type": "code",
   "execution_count": 35,
   "metadata": {},
   "outputs": [],
   "source": [
    "# Aggregate dollar contribution by category\n",
    "contribution_by_category = monthly[['group','agg_dollar_contribution']].groupby(by='group').sum()\n",
    "contribution_by_category = contribution_by_category.sort_values(by='agg_dollar_contribution', ascending=False)\n",
    "contribution_by_category = contribution_by_category.join(corr_df)\n",
    "contribution_by_category = contribution_by_category.rename(columns={'vegetables':'corr_w_vegetables'})\n",
    "\n",
    "# Maximum estimated financial impact by counting everything correlated with grocery sales as sales lift\n",
    "contribution_by_category['max_est_fin_impact'] = contribution_by_category['agg_dollar_contribution'] * contribution_by_category['corr_w_vegetables']\n",
    "\n",
    "# Measuring the category's importance by calculating its share of total store's contribution pool\n",
    "contribution_by_category['cat_total_contrib_share'] =  contribution_by_category['agg_dollar_contribution'] / contribution_by_category['agg_dollar_contribution'].sum()\n",
    "\n",
    "# Contribution counted as sales lift as a percentage of total store's contribution\n",
    "contribution_by_category['lift_contrib_share'] =  contribution_by_category['max_est_fin_impact'] / contribution_by_category['agg_dollar_contribution'].sum()\n",
    "\n",
    "max_lift = contribution_by_category.loc[contribution_by_category['lift_contrib_share'] > 0, 'lift_contrib_share'].sum()\n",
    "\n"
   ]
  },
  {
   "cell_type": "code",
   "execution_count": 36,
   "metadata": {},
   "outputs": [
    {
     "data": {
      "application/vnd.jupyter.widget-view+json": {
       "model_id": "e5aaa931243e4fdcb27d457929f2d371",
       "version_major": 2,
       "version_minor": 0
      },
      "text/plain": [
       "Container(children=[Btn(children=['Sales Lift', Icon(children=['mdi-salesforce'], right=True)], color='#F37726…"
      ]
     },
     "metadata": {},
     "output_type": "display_data"
    }
   ],
   "source": [
    "\n",
    "icon = v.Icon(right=True, children=['mdi-salesforce'])\n",
    "btn = v.Btn(color='#F37726', children=[\n",
    "    'Sales Lift',\n",
    "    icon\n",
    "])\n",
    "\n",
    "icon.on_event('click.stop', lambda *args: print(\"Max estimated lift is {0:.1f}% counting fresh produce sales, and {1:.1f}% without.\".format(max_lift * 100, (max_lift - .1) * 100))\n",
    "\n",
    "\n",
    "\n",
    ")\n",
    "\n",
    "btn.on_event('click', lambda *args: print(\"Max estimated lift is {0:.1f}% counting fresh produce sales, and {1:.1f}% without.\".format(max_lift * 100, (max_lift - .1) * 100))\n",
    "\n",
    "\n",
    "\n",
    ")\n",
    "\n",
    "\n",
    "v.Container(children=[\n",
    "    btn\n",
    "])\n"
   ]
  },
  {
   "cell_type": "code",
   "execution_count": 37,
   "metadata": {},
   "outputs": [
    {
     "data": {
      "application/vnd.jupyter.widget-view+json": {
       "model_id": "d250dd0c9a12499cb6e124e40ac21102",
       "version_major": 2,
       "version_minor": 0
      },
      "text/plain": [
       "Container(children=[Btn(children=['Contribution per category', Icon(children=['mdi-rounded-corner'], right=Tru…"
      ]
     },
     "metadata": {},
     "output_type": "display_data"
    }
   ],
   "source": [
    "\n",
    "\n",
    "icon = v.Icon(right=True, children=['mdi-rounded-corner'])\n",
    "btn = v.Btn(color='#F37726', children=[\n",
    "    'Contribution per category',\n",
    "    icon\n",
    "])\n",
    "\n",
    "icon.on_event('click.stop', lambda *args: contribution_by_category.sort_values('max_est_fin_impact', ascending=False).head()\n",
    "\n",
    ")\n",
    "\n",
    "\n",
    "\n",
    "\n",
    "\n",
    "btn.on_event('click', lambda *args:print(contribution_by_category.sort_values('max_est_fin_impact', ascending=False).head()))\n",
    "\n",
    "\n",
    "\n",
    "v.Container(children=[\n",
    "    btn\n",
    "])\n",
    "\n",
    "\n",
    "\n"
   ]
  },
  {
   "cell_type": "code",
   "execution_count": 38,
   "metadata": {},
   "outputs": [
    {
     "name": "stderr",
     "output_type": "stream",
     "text": [
      "/home/radepery/anaconda3/lib/python3.7/site-packages/matplotlib/__init__.py:880: MatplotlibDeprecationWarning: \n",
      "nbagg.transparent\n",
      "  version, key, obj_type=\"rcparam\", alternative=alt_key)\n",
      "/home/radepery/anaconda3/lib/python3.7/site-packages/matplotlib/__init__.py:880: MatplotlibDeprecationWarning: \n",
      "nbagg.transparent\n",
      "  version, key, obj_type=\"rcparam\", alternative=alt_key)\n"
     ]
    },
    {
     "data": {
      "application/vnd.jupyter.widget-view+json": {
       "model_id": "9176da9e0c174b07921ba97b3e235a4d",
       "version_major": 2,
       "version_minor": 0
      },
      "text/plain": [
       "Canvas(toolbar=Toolbar(toolitems=[('Home', 'Reset original view', 'home', 'home'), ('Back', 'Back to previous …"
      ]
     },
     "metadata": {},
     "output_type": "display_data"
    }
   ],
   "source": [
    "# Grabbing data for skus sold and revenue per month\n",
    "monthly_aggregate_skus_sold = cat_by_month('quantity').sum(axis=0)\n",
    "monthly_aggregate_revenue = cat_by_month('agg_revenue').sum(axis=0)\n",
    "monthly_aggregate_revenue.index = monthly_aggregate_skus_sold.index\n",
    "\n",
    "# plotting side by side\n",
    "rev_sku_fig = plt.figure(figsize=(6,3))\n",
    "ax1 = rev_sku_fig.add_subplot(111)\n",
    "ax1.plot(monthly_aggregate_skus_sold)\n",
    "ax1.set_ylabel('# of Items Sold')\n",
    "\n",
    "ax2 = ax1.twinx()\n",
    "ax2.plot(monthly_aggregate_revenue, 'r-')\n",
    "ax2.set_ylabel('Monthly Revenue (PLN)')\n",
    "\n",
    "ax1.set_title(\"# of Items Sold and Monthly Revenue\")\n",
    "\n",
    "ax1.legend(['Items Sold'])\n",
    "ax2.legend(['Monthly Rev'],loc=2)\n",
    "\n",
    "for tl in ax2.get_yticklabels():\n",
    "    tl.set_color('r')"
   ]
  },
  {
   "cell_type": "code",
   "execution_count": 39,
   "metadata": {},
   "outputs": [],
   "source": [
    "store_by_month = monthly[['date','quantity','agg_rev', 'agg_dollar_contribution']].groupby('date').sum()\n",
    "store_by_month['gross_margin'] = store_by_month['agg_dollar_contribution'] / store_by_month['agg_rev']"
   ]
  },
  {
   "cell_type": "code",
   "execution_count": 40,
   "metadata": {},
   "outputs": [],
   "source": [
    "# Contribution magin for each category, broek down by months\n",
    "# Contribution margin = 1 - aggregate_cogs / aggregate_revenue\n",
    "category_contribution_margin_by_month = 1 - cat_by_month('agg_cogs') / cat_by_month('agg_revenue')\n",
    "\n",
    "# Store baseline performance\n",
    "store_baseline_margin = 1 - cat_by_month('agg_cogs').sum() / cat_by_month('agg_revenue').sum()\n"
   ]
  },
  {
   "cell_type": "code",
   "execution_count": 41,
   "metadata": {},
   "outputs": [],
   "source": [
    "# We want to subtract category growth by baseline store level performance to see which category is \n",
    "# Over performing, and which category is underperforming relative to baseline.\n",
    "\n",
    "# Pandas doesn't support broadcasting so we'll make the df ourselves\n",
    "base_row = pd.DataFrame(store_baseline_margin).T\n",
    "to_append = []\n",
    "for idx in list(category_contribution_margin_by_month.index):\n",
    "    to_append.append(base_row.rename({0:idx}))\n",
    "\n",
    "broadcasted_baseline_margin = pd.concat(to_append)\n",
    "\n",
    "# Month over month margin change\n",
    "category_margin_performance = get_mom_growth(category_contribution_margin_by_month)\n",
    "category_margin_performance = category_margin_performance.sort_values('jun', ascending=False).loc[top_n_cat_by_contrib_idx(8),:]\n",
    "\n",
    "# Month over month margin change over baseline (store wide m/m margin change)\n",
    "category_margin_performance_over_baseline = get_mom_growth(category_contribution_margin_by_month) - get_mom_growth(broadcasted_baseline_margin)\n",
    "category_margin_performance_over_baseline = category_margin_performance_over_baseline.sort_values('jun', ascending=False).loc[top_n_cat_by_contrib_idx(7),:]"
   ]
  },
  {
   "cell_type": "code",
   "execution_count": 42,
   "metadata": {},
   "outputs": [
    {
     "name": "stderr",
     "output_type": "stream",
     "text": [
      "/home/radepery/anaconda3/lib/python3.7/site-packages/matplotlib/__init__.py:880: MatplotlibDeprecationWarning: \n",
      "nbagg.transparent\n",
      "  version, key, obj_type=\"rcparam\", alternative=alt_key)\n",
      "/home/radepery/anaconda3/lib/python3.7/site-packages/matplotlib/__init__.py:880: MatplotlibDeprecationWarning: \n",
      "nbagg.transparent\n",
      "  version, key, obj_type=\"rcparam\", alternative=alt_key)\n"
     ]
    },
    {
     "data": {
      "application/vnd.jupyter.widget-view+json": {
       "model_id": "96a1acfe177f4ead89556f960c95bbf2",
       "version_major": 2,
       "version_minor": 0
      },
      "text/plain": [
       "Canvas(toolbar=Toolbar(toolitems=[('Home', 'Reset original view', 'home', 'home'), ('Back', 'Back to previous …"
      ]
     },
     "metadata": {},
     "output_type": "display_data"
    }
   ],
   "source": [
    "# Using 3 month moving average to smooth out the volatility a bit more and make the trend more appearant\n",
    "\n",
    "fig, ax = plt.subplots(1, figsize=(6,3))\n",
    "ma(category_margin_performance_over_baseline, 3).T.plot(ax=ax)\n",
    "ax.set_title(\"M/M Category Contribution Margin Change, 3 Month Moving Average\")\n",
    "ax.grid(axis='y')\n",
    "ax.set_xticklabels(category_margin_performance.T.index[1:]);"
   ]
  },
  {
   "cell_type": "code",
   "execution_count": 43,
   "metadata": {},
   "outputs": [
    {
     "name": "stderr",
     "output_type": "stream",
     "text": [
      "/home/radepery/anaconda3/lib/python3.7/site-packages/matplotlib/__init__.py:880: MatplotlibDeprecationWarning: \n",
      "nbagg.transparent\n",
      "  version, key, obj_type=\"rcparam\", alternative=alt_key)\n",
      "/home/radepery/anaconda3/lib/python3.7/site-packages/matplotlib/__init__.py:880: MatplotlibDeprecationWarning: \n",
      "nbagg.transparent\n",
      "  version, key, obj_type=\"rcparam\", alternative=alt_key)\n"
     ]
    },
    {
     "data": {
      "application/vnd.jupyter.widget-view+json": {
       "model_id": "ff650ba1aabe4282ae3563a49bfb6f8d",
       "version_major": 2,
       "version_minor": 0
      },
      "text/plain": [
       "Canvas(toolbar=Toolbar(toolitems=[('Home', 'Reset original view', 'home', 'home'), ('Back', 'Back to previous …"
      ]
     },
     "metadata": {},
     "output_type": "display_data"
    }
   ],
   "source": [
    "# Seems like the positive margin expansion has been casued by the margin expansion of fresh produce\n",
    "# Explore more by looking at volume change\n",
    "category_quantity_performance = get_mom_growth(cat_by_month('quantity')).loc[top_n_cat_by_contrib_idx(8),:]\n",
    "\n",
    "fig, ax = plt.subplots(1, figsize=(6,3)) \n",
    "ma(category_quantity_performance, 3).T.plot(ax=ax)\n",
    "ax.set_title(\"M/M Category Volume Change, 3 Month Moving Average\")\n",
    "ax.grid(axis='y')\n",
    "ax.set_xticklabels(category_quantity_performance.T.index[1:]);"
   ]
  },
  {
   "cell_type": "code",
   "execution_count": 44,
   "metadata": {},
   "outputs": [
    {
     "data": {
      "text/html": [
       "<hr>"
      ],
      "text/plain": [
       "<IPython.core.display.HTML object>"
      ]
     },
     "execution_count": 44,
     "metadata": {},
     "output_type": "execute_result"
    }
   ],
   "source": [
    "HTML('<hr>')"
   ]
  },
  {
   "cell_type": "code",
   "execution_count": 45,
   "metadata": {},
   "outputs": [
    {
     "data": {
      "application/vnd.jupyter.widget-view+json": {
       "model_id": "5692a9da1f1c44c9bd96bc4237b9896b",
       "version_major": 2,
       "version_minor": 0
      },
      "text/plain": [
       "Html(children=['Suggest'], style_=\"font-size:29px; text-align:center; font-family: 'Josefin Sans';background:l…"
      ]
     },
     "metadata": {},
     "output_type": "display_data"
    }
   ],
   "source": [
    "import ipyvuetify as v\n",
    "text = 'Suggest'\n",
    "v.Html(tag=\"div\", children=[text], style_ = \"font-size:29px; text-align:center; font-family: 'Josefin Sans';background:linear-gradient(45deg, $pink, $orange)\")"
   ]
  },
  {
   "cell_type": "code",
   "execution_count": 46,
   "metadata": {},
   "outputs": [
    {
     "data": {
      "text/html": [
       "<hr>"
      ],
      "text/plain": [
       "<IPython.core.display.HTML object>"
      ]
     },
     "execution_count": 46,
     "metadata": {},
     "output_type": "execute_result"
    }
   ],
   "source": [
    "HTML('<hr>')"
   ]
  },
  {
   "cell_type": "code",
   "execution_count": 47,
   "metadata": {},
   "outputs": [],
   "source": [
    "monthlyt = pd.read_csv('data/monthly_sale_by_skut.csv')"
   ]
  },
  {
   "cell_type": "code",
   "execution_count": 48,
   "metadata": {},
   "outputs": [],
   "source": [
    "monthlyt = monthlyt.rename(columns={\n",
    "        'Date': 'date',\n",
    "        'PKod': 'sku',\n",
    "        'Pgroup': 'group',\n",
    "        'Pname': 'name',\n",
    "        'Pquantity': 'quantity',\n",
    "        'pce_zn': 'unit_cogs',\n",
    "        'pwa_zn': 'agg_cogs',  # aggregate cogs for this sku\n",
    "        'pce_sn': 'unit_revenue',\n",
    "        'pwn_sn': 'agg_rev',  # aggregate revenue for this sku\n",
    "        'pmarza': 'gross_margin',\n",
    "        'pmarzajedn': 'unit_contribution',\n",
    "        'pkwmarza': 'agg_dollar_contribution',\n",
    "        'pudzmarza': 'share_of_margin'\n",
    "    })\n"
   ]
  },
  {
   "cell_type": "code",
   "execution_count": 49,
   "metadata": {},
   "outputs": [],
   "source": [
    "monthlyt.group = monthlyt.group.str.lower()\n",
    "monthlyt.name = monthlyt.name.str.lower()\n",
    "monthlyt.date = pd.to_datetime(monthlyt.date, format=\"%d.%m.%Y\")\n",
    "monthlyt= monthlyt.drop(['pwa_sn', 'pce_sb', 'pwa_sb', 'pudzsb'], axis=1)\n"
   ]
  },
  {
   "cell_type": "code",
   "execution_count": 50,
   "metadata": {},
   "outputs": [],
   "source": [
    "monthlyt.group = monthlyt.group.replace(\n",
    "    {\"ketch_concetrate_mustard_majo_horseradish\": \"sauce\"})"
   ]
  },
  {
   "cell_type": "markdown",
   "metadata": {},
   "source": [
    "-------------------------------------------------------------------------------------------------------------------------------\n"
   ]
  },
  {
   "cell_type": "code",
   "execution_count": 51,
   "metadata": {},
   "outputs": [],
   "source": [
    "monthlyt.unit_cogs = monthlyt.unit_cogs.astype(str).str.replace(',', '.').str.replace(' ', '')"
   ]
  },
  {
   "cell_type": "code",
   "execution_count": 52,
   "metadata": {},
   "outputs": [],
   "source": [
    "product_description_df = monthlyt[['sku','group','name']].set_index('sku', drop=True)\n",
    "product_description_df = product_description_df.drop_duplicates()"
   ]
  },
  {
   "cell_type": "code",
   "execution_count": 53,
   "metadata": {},
   "outputs": [],
   "source": [
    "utility_matrix = monthlyt.pivot_table(values='quantity', index='sku', columns='date', aggfunc='sum')\n",
    "utility_matrix = utility_matrix.fillna(0)"
   ]
  },
  {
   "cell_type": "code",
   "execution_count": 54,
   "metadata": {},
   "outputs": [],
   "source": [
    "um_norm = utility_matrix.sub(utility_matrix.mean(axis=1), axis=0)\n",
    "um_norm = np.transpose(um_norm.values)\n",
    "um_norm = MinMaxScaler(feature_range=(0,1)).fit_transform(um_norm)\n",
    "um_norm = np.transpose(um_norm)\n",
    "um_norm_df = pd.DataFrame(um_norm, index=utility_matrix.index)"
   ]
  },
  {
   "cell_type": "code",
   "execution_count": 55,
   "metadata": {},
   "outputs": [],
   "source": [
    "def producer(queue, lock, um_norm_df):\n",
    "    \"\"\"\n",
    "    Iterate through the normalized utility matrix DataFrame and\n",
    "    adds all the pairs of vectors that need the cosine similarity to\n",
    "    be calculated\n",
    "    \"\"\"\n",
    "    \n",
    "    # Acquire lock on console\n",
    "    with lock:\n",
    "        print('Producer {} is starting.'.format(os.getpid()))\n",
    "    \n",
    "    counter = 0\n",
    "    batch = []\n",
    "    # put data required to calculate item-item cosine similarity in queue\n",
    "    for idx_i, row_data_i in um_norm_df.iterrows():\n",
    "        for idx_j, row_data_j in um_norm_df.iterrows():\n",
    "            # skip duplicate computations. w[i,j] and w[j,i] are the same\n",
    "            if idx_i < idx_j:\n",
    "                data = (idx_i, idx_j, row_data_i.values, row_data_j.values)\n",
    "                batch.append(data)\n",
    "                \n",
    "                # Queue data every 5000 iterations to minimize consumer I/O\n",
    "                if counter % 5000 == 0:\n",
    "                    queue.put(batch)\n",
    "                    batch = []\n",
    "                \n",
    "                counter += 1\n",
    "    \n",
    "    # Put left over data in queue\n",
    "    queue.put(batch)  \n",
    "    \n",
    "    # Acquire lock on console\n",
    "    with lock:\n",
    "        print('Producer {} is finished. Quitting.'.format(os.getpid()))\n",
    " \n",
    " \n",
    "def consumer(task_queue, lock, result_queue):\n",
    "    \"\"\"\n",
    "    Get data from the task queue and calculates the cosine similarity.\n",
    "    \n",
    "    Note: Item similarity with itself will not be calculated and as such,\n",
    "    will have a value of 0 instead of 1 in the final W matrix (item-item matrix).\n",
    "    This property is desirable because we never want to recommend the same item\n",
    "    itself.\n",
    "    \"\"\"\n",
    "\n",
    "    with lock:\n",
    "        print('Consumer {} is starting.'.format(os.getpid()))\n",
    "     \n",
    "    while True:\n",
    "        # Get data, if queue is empty, it will block until producer \n",
    "        # put data in queue \n",
    "        batch = task_queue.get()\n",
    "        result_batch= []\n",
    "        \n",
    "        # Iterate over the batch of data, each is a vector pair\n",
    "        for data in batch:\n",
    "            idx_i, idx_j, row_data_i, row_data_j = data\n",
    "\n",
    "            # scipy cosine calculates the cosine distance. 1 - distance = similarity\n",
    "            similarity = 1. - cosine(row_data_i, row_data_j)\n",
    "            \n",
    "            result_batch.append((idx_i, idx_j, similarity))\n",
    "            result_batch.append((idx_j, idx_i, similarity))\n",
    "        \n",
    "        result_queue.put(result_batch)\n",
    "\n",
    "        \n",
    "        \n",
    "    with lock:\n",
    "        print('Consumer {} is finished. Quiting'.format(os.getpid()))\n",
    "\n",
    "\n",
    "def process_result_queue(result_queue, item_item_df):\n",
    "    \"\"\"\n",
    "    Process the return data in result queue and update the item-item DataFrame\n",
    "    \"\"\"\n",
    "    \n",
    "    while result_queue.qsize() > 0:\n",
    "        result_batch = result_queue.get()\n",
    "        \n",
    "        for result in result_batch:\n",
    "            idx_i, idx_j, similarity = result\n",
    "\n",
    "            item_item_df.loc[idx_i,idx_j] = similarity\n",
    "    \n",
    "    return item_item_df\n",
    "    \n",
    "    \n",
    " "
   ]
  },
  {
   "cell_type": "code",
   "execution_count": 56,
   "metadata": {},
   "outputs": [],
   "source": [
    "   \n",
    "def build_item_item_matrix(um_norm_df):\n",
    "    \"\"\"Calculates the item-item similarity matrix\"\"\"\n",
    "    \n",
    "    num_skus = um_norm.shape[0]\n",
    "\n",
    "    item_item_df = pd.DataFrame(np.zeros((num_skus, num_skus)),\n",
    "                                index=utility_matrix.index, \n",
    "                                columns=utility_matrix.index)\n",
    "    \n",
    "    # For testing\n",
    "    # um_norm_df =  um_norm_df.iloc[:4,:4].copy()\n",
    "    \n",
    "    task_queue = Queue()\n",
    "    result_queue = Queue()\n",
    "\n",
    "    # Create a lock object to synchronize resource access\n",
    "    lock = Lock()\n",
    "\n",
    "    producers = []\n",
    "    consumers = []\n",
    "\n",
    "    # Create producer processes\n",
    "    producers.append(Process(target=producer, args=(task_queue, lock, um_norm_df)))\n",
    "\n",
    "    # Create consumer processes\n",
    "    for i in range(8):\n",
    "        p = Process(target=consumer, args=(task_queue, lock, result_queue))\n",
    "\n",
    "        # Set daemon to true so consumers will exit, otherwise it will be in inf loop\n",
    "        p.daemon = True\n",
    "        consumers.append(p)\n",
    "\n",
    "    for p in producers:\n",
    "        p.start()\n",
    "\n",
    "    for c in consumers:\n",
    "        c.start()\n",
    "\n",
    "    # Like threading, we have a join() method that synchronizes our program\n",
    "    for p in producers:\n",
    "        p.join()\n",
    "\n",
    "    item_item_df = process_result_queue(result_queue, item_item_df)\n",
    "\n",
    "    print('All done')\n",
    "    \n",
    "    return item_item_df\n"
   ]
  },
  {
   "cell_type": "code",
   "execution_count": 57,
   "metadata": {},
   "outputs": [],
   "source": [
    "def get_n_similar_items_for_sku(sku, n, item_item_df, \n",
    "                                product_description_df, print_item_desc=False,\n",
    "                               return_as_json=False):\n",
    "    \"\"\"\n",
    "    Looks through the item-item similarity matrix and returns the \n",
    "    top n similar items for a given sku\n",
    "    \n",
    "    Args:\n",
    "        sku: int\n",
    "            SKU to get top n similar items\n",
    "        \n",
    "        n: int\n",
    "            Number of similar items to return\n",
    "        \n",
    "        item_item_df: DataFrame\n",
    "            Pre-computed item-item similarity matrix as pd.DataFrame\n",
    "            and indexed on integer valued SKUs\n",
    "            \n",
    "        product_description_df: DataFrame\n",
    "            Df holding item descriptions indexed on integer valued SKUs\n",
    "            \n",
    "        print_item_desc: bool\n",
    "            Set true to print requestd sku product name and category\n",
    "        \n",
    "        return_as_json: bool\n",
    "            Returns JSON instead of DataFrame\n",
    "    \n",
    "    Returns:\n",
    "        items: DataFrame or JSON\n",
    "            Df or JSON containing top n similar items with product information\n",
    "            Use return_as_json argument to set return data type\n",
    "    \"\"\"\n",
    "    \n",
    "    top_n_skus = item_item_df.loc[:,sku].sort_values(ascending=False).iloc[:n]\n",
    "    top_n_skus = pd.DataFrame(top_n_skus).join(product_description_df, how='left')   \n",
    "    top_n_skus.columns = ['similarity','category','name']\n",
    "    \n",
    "    if print_item_desc:\n",
    "        item = product_description_df.loc[sku]\n",
    "        s = \"Top {} items /w similar purchase pattern to {} ({}) are as follows\"\n",
    "        print(s.format(n, item.loc[\"name\"], item.group))\n",
    "    \n",
    "    if return_as_json:\n",
    "        return top_n_skus.to_json(orient=\"records\")\n",
    "    \n",
    "    return top_n_skus\n",
    "\n",
    "\n"
   ]
  },
  {
   "cell_type": "code",
   "execution_count": 58,
   "metadata": {},
   "outputs": [
    {
     "data": {
      "application/vnd.jupyter.widget-view+json": {
       "model_id": "c9f849d8502a41a2aef585605c2a9cd3",
       "version_major": 2,
       "version_minor": 0
      },
      "text/plain": [
       "Container(children=[Btn(children=['Build Matrix', Icon(children=['mdi-account-clock-outline'], right=True)], c…"
      ]
     },
     "metadata": {},
     "output_type": "display_data"
    }
   ],
   "source": [
    "icon = v.Icon(right=True, children=['mdi-account-clock-outline'])\n",
    "btn = v.Btn(color='#F37726', children=[\n",
    "    'Build Matrix',\n",
    "    icon\n",
    "])\n",
    "\n",
    "icon.on_event('click.stop', lambda *args: build_item_item_matrix(um_norm_df))\n",
    "\n",
    "btn.on_event('click', lambda *args: build_item_item_matrix(um_norm_df))\n",
    "\n",
    "\n",
    "v.Container(children=[\n",
    "    btn\n",
    "])"
   ]
  },
  {
   "cell_type": "code",
   "execution_count": 59,
   "metadata": {},
   "outputs": [
    {
     "data": {
      "application/vnd.jupyter.widget-view+json": {
       "model_id": "82931b8df7ad4daf92d1aac5796d53d1",
       "version_major": 2,
       "version_minor": 0
      },
      "text/plain": [
       "Container(children=[Btn(children=['Show Recommendations', Icon(children=['mdi-account-clock-outline'], right=T…"
      ]
     },
     "metadata": {},
     "output_type": "display_data"
    }
   ],
   "source": [
    "import pandas as pd\n",
    "\n",
    "data = pd.read_csv('output.txt', header = None)\n",
    "data\n",
    "\n",
    "\n",
    "icon = v.Icon(right=True, children=['mdi-account-clock-outline'])\n",
    "btn = v.Btn(color='#F37726', children=[\n",
    "    'Show Recommendations',\n",
    "    icon\n",
    "])\n",
    "\n",
    "icon.on_event('click.stop', lambda *args: print(data))\n",
    "\n",
    "btn.on_event('click', lambda *args: print(data))\n",
    "\n",
    "\n",
    "v.Container(children=[\n",
    "    btn\n",
    "])"
   ]
  },
  {
   "cell_type": "code",
   "execution_count": 60,
   "metadata": {},
   "outputs": [],
   "source": [
    "#st = get_n_similar_items_for_sku(304, 15, item_item_df, product_description_df, print_item_desc=True)"
   ]
  },
  {
   "cell_type": "code",
   "execution_count": 61,
   "metadata": {},
   "outputs": [
    {
     "data": {
      "text/plain": [
       "\"\\nicon = v.Icon(right=True, children=['mdi-account-clock-outline'])\\nbtn = v.Btn(color='#F37726', children=[\\n    'Find Recommended Products',\\n    icon\\n])\\n\\nicon.on_event('click.stop', lambda *args: print(get_n_similar_items_for_sku(304, 15, item_item_df, product_description_df, print_item_desc=True))\\n\\nbtn.on_event('click', lambda *args: print(get_n_similar_items_for_sku(304, 15, item_item_df, product_description_df, print_item_desc=True)))\\n\\n\\nv.Container(children=[\\n    btn\\n])\\n\""
      ]
     },
     "execution_count": 61,
     "metadata": {},
     "output_type": "execute_result"
    }
   ],
   "source": [
    "\"\"\"\n",
    "icon = v.Icon(right=True, children=['mdi-account-clock-outline'])\n",
    "btn = v.Btn(color='#F37726', children=[\n",
    "    'Find Recommended Products',\n",
    "    icon\n",
    "])\n",
    "\n",
    "icon.on_event('click.stop', lambda *args: print(get_n_similar_items_for_sku(304, 15, item_item_df, product_description_df, print_item_desc=True))\n",
    "\n",
    "btn.on_event('click', lambda *args: print(get_n_similar_items_for_sku(304, 15, item_item_df, product_description_df, print_item_desc=True)))\n",
    "\n",
    "\n",
    "v.Container(children=[\n",
    "    btn\n",
    "])\n",
    "\"\"\""
   ]
  }
 ],
 "metadata": {
  "kernelspec": {
   "display_name": "Python 3",
   "language": "python",
   "name": "python3"
  },
  "language_info": {
   "codemirror_mode": {
    "name": "ipython",
    "version": 3
   },
   "file_extension": ".py",
   "mimetype": "text/x-python",
   "name": "python",
   "nbconvert_exporter": "python",
   "pygments_lexer": "ipython3",
   "version": "3.7.3"
  }
 },
 "nbformat": 4,
 "nbformat_minor": 4
}
